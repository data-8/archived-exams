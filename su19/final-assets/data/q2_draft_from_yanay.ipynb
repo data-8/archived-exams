{
 "cells": [
  {
   "cell_type": "markdown",
   "metadata": {},
   "source": [
    "# Scroll Down for Questions"
   ]
  },
  {
   "cell_type": "code",
   "execution_count": 6,
   "metadata": {},
   "outputs": [],
   "source": [
    "from datascience import *\n",
    "import numpy as np\n",
    "%matplotlib inline"
   ]
  },
  {
   "cell_type": "code",
   "execution_count": 7,
   "metadata": {},
   "outputs": [
    {
     "data": {
      "text/html": [
       "<table border=\"1\" class=\"dataframe\">\n",
       "    <thead>\n",
       "        <tr>\n",
       "            <th>GAME_ID</th> <th>MATCHUP</th> <th>LOCATION</th> <th>W</th> <th>FINAL_MARGIN</th> <th>SHOT_NUMBER</th> <th>PERIOD</th> <th>GAME_CLOCK</th> <th>SHOT_CLOCK</th> <th>DRIBBLES</th> <th>TOUCH_TIME</th> <th>SHOT_DIST</th> <th>PTS_TYPE</th> <th>SHOT_RESULT</th> <th>CLOSEST_DEFENDER</th> <th>CLOSEST_DEFENDER_PLAYER_ID</th> <th>CLOSE_DEF_DIST</th> <th>FGM</th> <th>PTS</th> <th>player_name</th> <th>player_id</th>\n",
       "        </tr>\n",
       "    </thead>\n",
       "    <tbody>\n",
       "        <tr>\n",
       "            <td>21400899</td> <td>MAR 04, 2015 - CHA @ BKN  </td> <td>A       </td> <td>W   </td> <td>24          </td> <td>1          </td> <td>1     </td> <td>1:09      </td> <td>10.8      </td> <td>2       </td> <td>1.9       </td> <td>7.7      </td> <td>2       </td> <td>made       </td> <td>Anderson, Alan   </td> <td>101187                    </td> <td>1.3           </td> <td>1   </td> <td>2   </td> <td>brian roberts</td> <td>203148   </td>\n",
       "        </tr>\n",
       "        <tr>\n",
       "            <td>21400899</td> <td>MAR 04, 2015 - CHA @ BKN  </td> <td>A       </td> <td>W   </td> <td>24          </td> <td>2          </td> <td>1     </td> <td>0:14      </td> <td>3.4       </td> <td>0       </td> <td>0.8       </td> <td>28.2     </td> <td>3       </td> <td>missed     </td> <td>Bogdanovic, Bojan</td> <td>202711                    </td> <td>6.1           </td> <td>0   </td> <td>0   </td> <td>brian roberts</td> <td>203148   </td>\n",
       "        </tr>\n",
       "        <tr>\n",
       "            <td>21400899</td> <td>MAR 04, 2015 - CHA @ BKN  </td> <td>A       </td> <td>W   </td> <td>24          </td> <td>3          </td> <td>1     </td> <td>0:00      </td> <td>nan       </td> <td>3       </td> <td>2.7       </td> <td>10.1     </td> <td>2       </td> <td>missed     </td> <td>Bogdanovic, Bojan</td> <td>202711                    </td> <td>0.9           </td> <td>0   </td> <td>0   </td> <td>brian roberts</td> <td>203148   </td>\n",
       "        </tr>\n",
       "        <tr>\n",
       "            <td>21400899</td> <td>MAR 04, 2015 - CHA @ BKN  </td> <td>A       </td> <td>W   </td> <td>24          </td> <td>4          </td> <td>2     </td> <td>11:47     </td> <td>10.3      </td> <td>2       </td> <td>1.9       </td> <td>17.2     </td> <td>2       </td> <td>missed     </td> <td>Brown, Markel    </td> <td>203900                    </td> <td>3.4           </td> <td>0   </td> <td>0   </td> <td>brian roberts</td> <td>203148   </td>\n",
       "        </tr>\n",
       "        <tr>\n",
       "            <td>21400899</td> <td>MAR 04, 2015 - CHA @ BKN  </td> <td>A       </td> <td>W   </td> <td>24          </td> <td>5          </td> <td>2     </td> <td>10:34     </td> <td>10.9      </td> <td>2       </td> <td>2.7       </td> <td>3.7      </td> <td>2       </td> <td>missed     </td> <td>Young, Thaddeus  </td> <td>201152                    </td> <td>1.1           </td> <td>0   </td> <td>0   </td> <td>brian roberts</td> <td>203148   </td>\n",
       "        </tr>\n",
       "        <tr>\n",
       "            <td>21400899</td> <td>MAR 04, 2015 - CHA @ BKN  </td> <td>A       </td> <td>W   </td> <td>24          </td> <td>6          </td> <td>2     </td> <td>8:15      </td> <td>9.1       </td> <td>2       </td> <td>4.4       </td> <td>18.4     </td> <td>2       </td> <td>missed     </td> <td>Williams, Deron  </td> <td>101114                    </td> <td>2.6           </td> <td>0   </td> <td>0   </td> <td>brian roberts</td> <td>203148   </td>\n",
       "        </tr>\n",
       "        <tr>\n",
       "            <td>21400899</td> <td>MAR 04, 2015 - CHA @ BKN  </td> <td>A       </td> <td>W   </td> <td>24          </td> <td>7          </td> <td>4     </td> <td>10:15     </td> <td>14.5      </td> <td>11      </td> <td>9         </td> <td>20.7     </td> <td>2       </td> <td>missed     </td> <td>Jack, Jarrett    </td> <td>101127                    </td> <td>6.1           </td> <td>0   </td> <td>0   </td> <td>brian roberts</td> <td>203148   </td>\n",
       "        </tr>\n",
       "        <tr>\n",
       "            <td>21400899</td> <td>MAR 04, 2015 - CHA @ BKN  </td> <td>A       </td> <td>W   </td> <td>24          </td> <td>8          </td> <td>4     </td> <td>8:00      </td> <td>3.4       </td> <td>3       </td> <td>2.5       </td> <td>3.5      </td> <td>2       </td> <td>made       </td> <td>Plumlee, Mason   </td> <td>203486                    </td> <td>2.1           </td> <td>1   </td> <td>2   </td> <td>brian roberts</td> <td>203148   </td>\n",
       "        </tr>\n",
       "        <tr>\n",
       "            <td>21400899</td> <td>MAR 04, 2015 - CHA @ BKN  </td> <td>A       </td> <td>W   </td> <td>24          </td> <td>9          </td> <td>4     </td> <td>5:14      </td> <td>12.4      </td> <td>0       </td> <td>0.8       </td> <td>24.6     </td> <td>3       </td> <td>missed     </td> <td>Morris, Darius   </td> <td>202721                    </td> <td>7.3           </td> <td>0   </td> <td>0   </td> <td>brian roberts</td> <td>203148   </td>\n",
       "        </tr>\n",
       "        <tr>\n",
       "            <td>21400890</td> <td>MAR 03, 2015 - CHA vs. LAL</td> <td>H       </td> <td>W   </td> <td>1           </td> <td>1          </td> <td>2     </td> <td>11:32     </td> <td>17.4      </td> <td>0       </td> <td>1.1       </td> <td>22.4     </td> <td>3       </td> <td>missed     </td> <td>Ellington, Wayne </td> <td>201961                    </td> <td>19.8          </td> <td>0   </td> <td>0   </td> <td>brian roberts</td> <td>203148   </td>\n",
       "        </tr>\n",
       "    </tbody>\n",
       "</table>\n",
       "<p>... (128059 rows omitted)</p>"
      ],
      "text/plain": [
       "GAME_ID  | MATCHUP                    | LOCATION | W    | FINAL_MARGIN | SHOT_NUMBER | PERIOD | GAME_CLOCK | SHOT_CLOCK | DRIBBLES | TOUCH_TIME | SHOT_DIST | PTS_TYPE | SHOT_RESULT | CLOSEST_DEFENDER  | CLOSEST_DEFENDER_PLAYER_ID | CLOSE_DEF_DIST | FGM  | PTS  | player_name   | player_id\n",
       "21400899 | MAR 04, 2015 - CHA @ BKN   | A        | W    | 24           | 1           | 1      | 1:09       | 10.8       | 2        | 1.9        | 7.7       | 2        | made        | Anderson, Alan    | 101187                     | 1.3            | 1    | 2    | brian roberts | 203148\n",
       "21400899 | MAR 04, 2015 - CHA @ BKN   | A        | W    | 24           | 2           | 1      | 0:14       | 3.4        | 0        | 0.8        | 28.2      | 3        | missed      | Bogdanovic, Bojan | 202711                     | 6.1            | 0    | 0    | brian roberts | 203148\n",
       "21400899 | MAR 04, 2015 - CHA @ BKN   | A        | W    | 24           | 3           | 1      | 0:00       | nan        | 3        | 2.7        | 10.1      | 2        | missed      | Bogdanovic, Bojan | 202711                     | 0.9            | 0    | 0    | brian roberts | 203148\n",
       "21400899 | MAR 04, 2015 - CHA @ BKN   | A        | W    | 24           | 4           | 2      | 11:47      | 10.3       | 2        | 1.9        | 17.2      | 2        | missed      | Brown, Markel     | 203900                     | 3.4            | 0    | 0    | brian roberts | 203148\n",
       "21400899 | MAR 04, 2015 - CHA @ BKN   | A        | W    | 24           | 5           | 2      | 10:34      | 10.9       | 2        | 2.7        | 3.7       | 2        | missed      | Young, Thaddeus   | 201152                     | 1.1            | 0    | 0    | brian roberts | 203148\n",
       "21400899 | MAR 04, 2015 - CHA @ BKN   | A        | W    | 24           | 6           | 2      | 8:15       | 9.1        | 2        | 4.4        | 18.4      | 2        | missed      | Williams, Deron   | 101114                     | 2.6            | 0    | 0    | brian roberts | 203148\n",
       "21400899 | MAR 04, 2015 - CHA @ BKN   | A        | W    | 24           | 7           | 4      | 10:15      | 14.5       | 11       | 9          | 20.7      | 2        | missed      | Jack, Jarrett     | 101127                     | 6.1            | 0    | 0    | brian roberts | 203148\n",
       "21400899 | MAR 04, 2015 - CHA @ BKN   | A        | W    | 24           | 8           | 4      | 8:00       | 3.4        | 3        | 2.5        | 3.5       | 2        | made        | Plumlee, Mason    | 203486                     | 2.1            | 1    | 2    | brian roberts | 203148\n",
       "21400899 | MAR 04, 2015 - CHA @ BKN   | A        | W    | 24           | 9           | 4      | 5:14       | 12.4       | 0        | 0.8        | 24.6      | 3        | missed      | Morris, Darius    | 202721                     | 7.3            | 0    | 0    | brian roberts | 203148\n",
       "21400890 | MAR 03, 2015 - CHA vs. LAL | H        | W    | 1            | 1           | 2      | 11:32      | 17.4       | 0        | 1.1        | 22.4      | 3        | missed      | Ellington, Wayne  | 201961                     | 19.8           | 0    | 0    | brian roberts | 203148\n",
       "... (128059 rows omitted)"
      ]
     },
     "execution_count": 7,
     "metadata": {},
     "output_type": "execute_result"
    }
   ],
   "source": [
    "t = Table.read_table(\"shot_logs.csv\")\n",
    "t"
   ]
  },
  {
   "cell_type": "code",
   "execution_count": 8,
   "metadata": {},
   "outputs": [],
   "source": [
    "def proc(row):\n",
    "    i = row.item(\"MATCHUP\").split(\"- \")[1]\n",
    "    v = row.item(\"LOCATION\")\n",
    "    if \"vs.\" in i:\n",
    "        h = i.split(\" vs. \")[0]\n",
    "        a = i.split(\" vs. \")[1]\n",
    "    else:\n",
    "        h = i.split(\" @ \")[1]\n",
    "        a = i.split(\" @ \")[0]\n",
    "    if v == \"A\":\n",
    "        return a\n",
    "    else:\n",
    "        return h \n",
    "    f+=1\n",
    "\n",
    "t = t.with_column(\"team\", t.apply(proc))\n"
   ]
  },
  {
   "cell_type": "code",
   "execution_count": 9,
   "metadata": {},
   "outputs": [
    {
     "data": {
      "text/html": [
       "<table border=\"1\" class=\"dataframe\">\n",
       "    <thead>\n",
       "        <tr>\n",
       "            <th>GAME_ID</th> <th>MATCHUP</th> <th>LOCATION</th> <th>W</th> <th>FINAL_MARGIN</th> <th>SHOT_NUMBER</th> <th>PERIOD</th> <th>GAME_CLOCK</th> <th>SHOT_CLOCK</th> <th>DRIBBLES</th> <th>TOUCH_TIME</th> <th>SHOT_DIST</th> <th>PTS_TYPE</th> <th>SHOT_RESULT</th> <th>CLOSEST_DEFENDER</th> <th>CLOSEST_DEFENDER_PLAYER_ID</th> <th>CLOSE_DEF_DIST</th> <th>FGM</th> <th>PTS</th> <th>player_name</th> <th>player_id</th> <th>team</th>\n",
       "        </tr>\n",
       "    </thead>\n",
       "    <tbody>\n",
       "        <tr>\n",
       "            <td>21400899</td> <td>MAR 04, 2015 - CHA @ BKN  </td> <td>A       </td> <td>W   </td> <td>24          </td> <td>1          </td> <td>1     </td> <td>1:09      </td> <td>10.8      </td> <td>2       </td> <td>1.9       </td> <td>7.7      </td> <td>2       </td> <td>made       </td> <td>Anderson, Alan   </td> <td>101187                    </td> <td>1.3           </td> <td>1   </td> <td>2   </td> <td>brian roberts</td> <td>203148   </td> <td>CHA </td>\n",
       "        </tr>\n",
       "        <tr>\n",
       "            <td>21400899</td> <td>MAR 04, 2015 - CHA @ BKN  </td> <td>A       </td> <td>W   </td> <td>24          </td> <td>2          </td> <td>1     </td> <td>0:14      </td> <td>3.4       </td> <td>0       </td> <td>0.8       </td> <td>28.2     </td> <td>3       </td> <td>missed     </td> <td>Bogdanovic, Bojan</td> <td>202711                    </td> <td>6.1           </td> <td>0   </td> <td>0   </td> <td>brian roberts</td> <td>203148   </td> <td>CHA </td>\n",
       "        </tr>\n",
       "        <tr>\n",
       "            <td>21400899</td> <td>MAR 04, 2015 - CHA @ BKN  </td> <td>A       </td> <td>W   </td> <td>24          </td> <td>3          </td> <td>1     </td> <td>0:00      </td> <td>nan       </td> <td>3       </td> <td>2.7       </td> <td>10.1     </td> <td>2       </td> <td>missed     </td> <td>Bogdanovic, Bojan</td> <td>202711                    </td> <td>0.9           </td> <td>0   </td> <td>0   </td> <td>brian roberts</td> <td>203148   </td> <td>CHA </td>\n",
       "        </tr>\n",
       "        <tr>\n",
       "            <td>21400899</td> <td>MAR 04, 2015 - CHA @ BKN  </td> <td>A       </td> <td>W   </td> <td>24          </td> <td>4          </td> <td>2     </td> <td>11:47     </td> <td>10.3      </td> <td>2       </td> <td>1.9       </td> <td>17.2     </td> <td>2       </td> <td>missed     </td> <td>Brown, Markel    </td> <td>203900                    </td> <td>3.4           </td> <td>0   </td> <td>0   </td> <td>brian roberts</td> <td>203148   </td> <td>CHA </td>\n",
       "        </tr>\n",
       "        <tr>\n",
       "            <td>21400899</td> <td>MAR 04, 2015 - CHA @ BKN  </td> <td>A       </td> <td>W   </td> <td>24          </td> <td>5          </td> <td>2     </td> <td>10:34     </td> <td>10.9      </td> <td>2       </td> <td>2.7       </td> <td>3.7      </td> <td>2       </td> <td>missed     </td> <td>Young, Thaddeus  </td> <td>201152                    </td> <td>1.1           </td> <td>0   </td> <td>0   </td> <td>brian roberts</td> <td>203148   </td> <td>CHA </td>\n",
       "        </tr>\n",
       "        <tr>\n",
       "            <td>21400899</td> <td>MAR 04, 2015 - CHA @ BKN  </td> <td>A       </td> <td>W   </td> <td>24          </td> <td>6          </td> <td>2     </td> <td>8:15      </td> <td>9.1       </td> <td>2       </td> <td>4.4       </td> <td>18.4     </td> <td>2       </td> <td>missed     </td> <td>Williams, Deron  </td> <td>101114                    </td> <td>2.6           </td> <td>0   </td> <td>0   </td> <td>brian roberts</td> <td>203148   </td> <td>CHA </td>\n",
       "        </tr>\n",
       "        <tr>\n",
       "            <td>21400899</td> <td>MAR 04, 2015 - CHA @ BKN  </td> <td>A       </td> <td>W   </td> <td>24          </td> <td>7          </td> <td>4     </td> <td>10:15     </td> <td>14.5      </td> <td>11      </td> <td>9         </td> <td>20.7     </td> <td>2       </td> <td>missed     </td> <td>Jack, Jarrett    </td> <td>101127                    </td> <td>6.1           </td> <td>0   </td> <td>0   </td> <td>brian roberts</td> <td>203148   </td> <td>CHA </td>\n",
       "        </tr>\n",
       "        <tr>\n",
       "            <td>21400899</td> <td>MAR 04, 2015 - CHA @ BKN  </td> <td>A       </td> <td>W   </td> <td>24          </td> <td>8          </td> <td>4     </td> <td>8:00      </td> <td>3.4       </td> <td>3       </td> <td>2.5       </td> <td>3.5      </td> <td>2       </td> <td>made       </td> <td>Plumlee, Mason   </td> <td>203486                    </td> <td>2.1           </td> <td>1   </td> <td>2   </td> <td>brian roberts</td> <td>203148   </td> <td>CHA </td>\n",
       "        </tr>\n",
       "        <tr>\n",
       "            <td>21400899</td> <td>MAR 04, 2015 - CHA @ BKN  </td> <td>A       </td> <td>W   </td> <td>24          </td> <td>9          </td> <td>4     </td> <td>5:14      </td> <td>12.4      </td> <td>0       </td> <td>0.8       </td> <td>24.6     </td> <td>3       </td> <td>missed     </td> <td>Morris, Darius   </td> <td>202721                    </td> <td>7.3           </td> <td>0   </td> <td>0   </td> <td>brian roberts</td> <td>203148   </td> <td>CHA </td>\n",
       "        </tr>\n",
       "        <tr>\n",
       "            <td>21400890</td> <td>MAR 03, 2015 - CHA vs. LAL</td> <td>H       </td> <td>W   </td> <td>1           </td> <td>1          </td> <td>2     </td> <td>11:32     </td> <td>17.4      </td> <td>0       </td> <td>1.1       </td> <td>22.4     </td> <td>3       </td> <td>missed     </td> <td>Ellington, Wayne </td> <td>201961                    </td> <td>19.8          </td> <td>0   </td> <td>0   </td> <td>brian roberts</td> <td>203148   </td> <td>CHA </td>\n",
       "        </tr>\n",
       "    </tbody>\n",
       "</table>\n",
       "<p>... (128059 rows omitted)</p>"
      ],
      "text/plain": [
       "GAME_ID  | MATCHUP                    | LOCATION | W    | FINAL_MARGIN | SHOT_NUMBER | PERIOD | GAME_CLOCK | SHOT_CLOCK | DRIBBLES | TOUCH_TIME | SHOT_DIST | PTS_TYPE | SHOT_RESULT | CLOSEST_DEFENDER  | CLOSEST_DEFENDER_PLAYER_ID | CLOSE_DEF_DIST | FGM  | PTS  | player_name   | player_id | team\n",
       "21400899 | MAR 04, 2015 - CHA @ BKN   | A        | W    | 24           | 1           | 1      | 1:09       | 10.8       | 2        | 1.9        | 7.7       | 2        | made        | Anderson, Alan    | 101187                     | 1.3            | 1    | 2    | brian roberts | 203148    | CHA\n",
       "21400899 | MAR 04, 2015 - CHA @ BKN   | A        | W    | 24           | 2           | 1      | 0:14       | 3.4        | 0        | 0.8        | 28.2      | 3        | missed      | Bogdanovic, Bojan | 202711                     | 6.1            | 0    | 0    | brian roberts | 203148    | CHA\n",
       "21400899 | MAR 04, 2015 - CHA @ BKN   | A        | W    | 24           | 3           | 1      | 0:00       | nan        | 3        | 2.7        | 10.1      | 2        | missed      | Bogdanovic, Bojan | 202711                     | 0.9            | 0    | 0    | brian roberts | 203148    | CHA\n",
       "21400899 | MAR 04, 2015 - CHA @ BKN   | A        | W    | 24           | 4           | 2      | 11:47      | 10.3       | 2        | 1.9        | 17.2      | 2        | missed      | Brown, Markel     | 203900                     | 3.4            | 0    | 0    | brian roberts | 203148    | CHA\n",
       "21400899 | MAR 04, 2015 - CHA @ BKN   | A        | W    | 24           | 5           | 2      | 10:34      | 10.9       | 2        | 2.7        | 3.7       | 2        | missed      | Young, Thaddeus   | 201152                     | 1.1            | 0    | 0    | brian roberts | 203148    | CHA\n",
       "21400899 | MAR 04, 2015 - CHA @ BKN   | A        | W    | 24           | 6           | 2      | 8:15       | 9.1        | 2        | 4.4        | 18.4      | 2        | missed      | Williams, Deron   | 101114                     | 2.6            | 0    | 0    | brian roberts | 203148    | CHA\n",
       "21400899 | MAR 04, 2015 - CHA @ BKN   | A        | W    | 24           | 7           | 4      | 10:15      | 14.5       | 11       | 9          | 20.7      | 2        | missed      | Jack, Jarrett     | 101127                     | 6.1            | 0    | 0    | brian roberts | 203148    | CHA\n",
       "21400899 | MAR 04, 2015 - CHA @ BKN   | A        | W    | 24           | 8           | 4      | 8:00       | 3.4        | 3        | 2.5        | 3.5       | 2        | made        | Plumlee, Mason    | 203486                     | 2.1            | 1    | 2    | brian roberts | 203148    | CHA\n",
       "21400899 | MAR 04, 2015 - CHA @ BKN   | A        | W    | 24           | 9           | 4      | 5:14       | 12.4       | 0        | 0.8        | 24.6      | 3        | missed      | Morris, Darius    | 202721                     | 7.3            | 0    | 0    | brian roberts | 203148    | CHA\n",
       "21400890 | MAR 03, 2015 - CHA vs. LAL | H        | W    | 1            | 1           | 2      | 11:32      | 17.4       | 0        | 1.1        | 22.4      | 3        | missed      | Ellington, Wayne  | 201961                     | 19.8           | 0    | 0    | brian roberts | 203148    | CHA\n",
       "... (128059 rows omitted)"
      ]
     },
     "execution_count": 9,
     "metadata": {},
     "output_type": "execute_result"
    }
   ],
   "source": [
    "t"
   ]
  },
  {
   "cell_type": "code",
   "execution_count": 10,
   "metadata": {},
   "outputs": [],
   "source": [
    "first_game_first_quarter = t\n",
    "\n",
    "shots = first_game_first_quarter.sort(\"GAME_ID\")\n",
    "shots = shots.with_column(\"MINUTES\", [int(i.split(\":\")[0]) for i in  shots.column(\"GAME_CLOCK\")], \"SECONDS\", [int(i.split(\":\")[1]) for i in  shots.column(\"GAME_CLOCK\")],)\n",
    "shots = shots.with_column(\"HOME\", \"NOP\", \"AWAY\", \"ORL\")\n",
    "shots = shots.select(\"GAME_ID\", \"PERIOD\", \"PTS_TYPE\", \"SHOT_RESULT\", \"player_name\", \"team\", \"MINUTES\", \"SECONDS\")\n",
    "\n",
    "#shots = shots.with_column(\"team\", [\"POR\" if i == \"H\" else \"LAC\" for i in  shots.column(\"LOCATION\") ]).drop(\"LOCATION\")\n",
    "shots = shots.sort(\"MINUTES\", descending=True).relabel(\"PERIOD\", \"QUARTER\").relabel(\"PTS_TYPE\", \"shot_value\")\n"
   ]
  },
  {
   "cell_type": "markdown",
   "metadata": {},
   "source": [
    "# Shoot Your Shot\n",
    "The `shots` table provided has information for every shot taken (including free throws) in the 2014-2015 NBA season.\n",
    "\n",
    "Assume that this table contains the information regarding every single point scored in every game in the season.\n",
    "\n",
    "Teams that score the most points win.\n",
    "\n",
    "`GAME_ID` is a unique identifier for each game. Each team has a unique three letter code. Some rows from shots are shown below:"
   ]
  },
  {
   "cell_type": "code",
   "execution_count": 11,
   "metadata": {},
   "outputs": [
    {
     "data": {
      "text/html": [
       "<table border=\"1\" class=\"dataframe\">\n",
       "    <thead>\n",
       "        <tr>\n",
       "            <th>GAME_ID</th> <th>QUARTER</th> <th>shot_value</th> <th>SHOT_RESULT</th> <th>player_name</th> <th>team</th> <th>MINUTES</th> <th>SECONDS</th>\n",
       "        </tr>\n",
       "    </thead>\n",
       "    <tbody>\n",
       "        <tr>\n",
       "            <td>21400533</td> <td>3      </td> <td>2         </td> <td>missed     </td> <td>klay thompson    </td> <td>GSW </td> <td>12     </td> <td>0      </td>\n",
       "        </tr>\n",
       "        <tr>\n",
       "            <td>21400431</td> <td>3      </td> <td>2         </td> <td>missed     </td> <td>klay thompson    </td> <td>GSW </td> <td>12     </td> <td>0      </td>\n",
       "        </tr>\n",
       "        <tr>\n",
       "            <td>21400406</td> <td>2      </td> <td>2         </td> <td>made       </td> <td>gerald green     </td> <td>PHX </td> <td>12     </td> <td>0      </td>\n",
       "        </tr>\n",
       "        <tr>\n",
       "            <td>21400908</td> <td>4      </td> <td>2         </td> <td>made       </td> <td>chris kaman      </td> <td>POR </td> <td>11     </td> <td>47     </td>\n",
       "        </tr>\n",
       "        <tr>\n",
       "            <td>21400908</td> <td>2      </td> <td>2         </td> <td>made       </td> <td>chris kaman      </td> <td>POR </td> <td>11     </td> <td>35     </td>\n",
       "        </tr>\n",
       "        <tr>\n",
       "            <td>21400908</td> <td>3      </td> <td>2         </td> <td>missed     </td> <td>lamarcus aldridge</td> <td>POR </td> <td>11     </td> <td>1      </td>\n",
       "        </tr>\n",
       "        <tr>\n",
       "            <td>21400908</td> <td>3      </td> <td>2         </td> <td>made       </td> <td>lamarcus aldridge</td> <td>POR </td> <td>11     </td> <td>29     </td>\n",
       "        </tr>\n",
       "        <tr>\n",
       "            <td>21400908</td> <td>3      </td> <td>2         </td> <td>missed     </td> <td>lamarcus aldridge</td> <td>POR </td> <td>11     </td> <td>35     </td>\n",
       "        </tr>\n",
       "        <tr>\n",
       "            <td>21400908</td> <td>1      </td> <td>2         </td> <td>made       </td> <td>lamarcus aldridge</td> <td>POR </td> <td>11     </td> <td>44     </td>\n",
       "        </tr>\n",
       "        <tr>\n",
       "            <td>21400908</td> <td>2      </td> <td>2         </td> <td>missed     </td> <td>spencer hawes    </td> <td>LAC </td> <td>11     </td> <td>10     </td>\n",
       "        </tr>\n",
       "    </tbody>\n",
       "</table>\n",
       "<p>... (128059 rows omitted)</p>"
      ],
      "text/plain": [
       "GAME_ID  | QUARTER | shot_value | SHOT_RESULT | player_name       | team | MINUTES | SECONDS\n",
       "21400533 | 3       | 2          | missed      | klay thompson     | GSW  | 12      | 0\n",
       "21400431 | 3       | 2          | missed      | klay thompson     | GSW  | 12      | 0\n",
       "21400406 | 2       | 2          | made        | gerald green      | PHX  | 12      | 0\n",
       "21400908 | 4       | 2          | made        | chris kaman       | POR  | 11      | 47\n",
       "21400908 | 2       | 2          | made        | chris kaman       | POR  | 11      | 35\n",
       "21400908 | 3       | 2          | missed      | lamarcus aldridge | POR  | 11      | 1\n",
       "21400908 | 3       | 2          | made        | lamarcus aldridge | POR  | 11      | 29\n",
       "21400908 | 3       | 2          | missed      | lamarcus aldridge | POR  | 11      | 35\n",
       "21400908 | 1       | 2          | made        | lamarcus aldridge | POR  | 11      | 44\n",
       "21400908 | 2       | 2          | missed      | spencer hawes     | LAC  | 11      | 10\n",
       "... (128059 rows omitted)"
      ]
     },
     "execution_count": 11,
     "metadata": {},
     "output_type": "execute_result"
    }
   ],
   "source": [
    "shots"
   ]
  },
  {
   "cell_type": "markdown",
   "metadata": {},
   "source": [
    "## Question One\n",
    "Assign winners to a table of team names and the number of games they won."
   ]
  },
  {
   "cell_type": "code",
   "execution_count": 8,
   "metadata": {},
   "outputs": [
    {
     "ename": "AttributeError",
     "evalue": "'Table' object has no attribute '____'",
     "output_type": "error",
     "traceback": [
      "\u001b[0;31m---------------------------------------------------------------------------\u001b[0m",
      "\u001b[0;31mAttributeError\u001b[0m                            Traceback (most recent call last)",
      "\u001b[0;32m<ipython-input-8-ff3245ead22e>\u001b[0m in \u001b[0;36m<module>\u001b[0;34m()\u001b[0m\n\u001b[0;32m----> 1\u001b[0;31m \u001b[0mpoints\u001b[0m \u001b[0;34m=\u001b[0m \u001b[0m___\u001b[0m\u001b[0;34m.\u001b[0m\u001b[0m____\u001b[0m\u001b[0;34m(\u001b[0m\u001b[0m____\u001b[0m\u001b[0;34m,\u001b[0m \u001b[0m____\u001b[0m\u001b[0;34m)\u001b[0m\u001b[0;34m.\u001b[0m\u001b[0mselect\u001b[0m\u001b[0;34m(\u001b[0m\u001b[0;34m\"GAME_ID\"\u001b[0m\u001b[0;34m,\u001b[0m \u001b[0;34m\"PTS_TYPE\"\u001b[0m\u001b[0;34m,\u001b[0m \u001b[0;34m\"team\"\u001b[0m\u001b[0;34m)\u001b[0m\u001b[0;34m\u001b[0m\u001b[0m\n\u001b[0m\u001b[1;32m      2\u001b[0m \u001b[0mscores\u001b[0m \u001b[0;34m=\u001b[0m \u001b[0m____\u001b[0m\u001b[0;34m.\u001b[0m\u001b[0m___\u001b[0m\u001b[0;34m(\u001b[0m\u001b[0mmake_array\u001b[0m\u001b[0;34m(\u001b[0m\u001b[0m____\u001b[0m\u001b[0;34m,\u001b[0m\u001b[0m____\u001b[0m\u001b[0;34m)\u001b[0m\u001b[0;34m,\u001b[0m \u001b[0m___\u001b[0m\u001b[0;34m)\u001b[0m\u001b[0;34m\u001b[0m\u001b[0m\n\u001b[1;32m      3\u001b[0m \u001b[0msorted_table\u001b[0m \u001b[0;34m=\u001b[0m \u001b[0m___\u001b[0m\u001b[0;34m.\u001b[0m\u001b[0m____\u001b[0m\u001b[0;34m(\u001b[0m\u001b[0m____\u001b[0m\u001b[0;34m,\u001b[0m \u001b[0mdescending\u001b[0m\u001b[0;34m=\u001b[0m\u001b[0;32mTrue\u001b[0m\u001b[0;34m)\u001b[0m\u001b[0;34m.\u001b[0m\u001b[0m____\u001b[0m\u001b[0;34m(\u001b[0m\u001b[0m____\u001b[0m\u001b[0;34m)\u001b[0m\u001b[0;34m\u001b[0m\u001b[0m\n\u001b[1;32m      4\u001b[0m \u001b[0mwinners\u001b[0m \u001b[0;34m=\u001b[0m \u001b[0m____\u001b[0m\u001b[0;34m.\u001b[0m\u001b[0m____\u001b[0m\u001b[0;34m(\u001b[0m\u001b[0m____\u001b[0m\u001b[0;34m(\u001b[0m\u001b[0m____\u001b[0m\u001b[0;34m,\u001b[0m \u001b[0msorted_table\u001b[0m\u001b[0;34m.\u001b[0m\u001b[0mnum_rows\u001b[0m\u001b[0;34m,\u001b[0m \u001b[0m____\u001b[0m\u001b[0;34m)\u001b[0m\u001b[0;34m)\u001b[0m\u001b[0;34m.\u001b[0m\u001b[0m____\u001b[0m\u001b[0;34m(\u001b[0m\u001b[0m____\u001b[0m\u001b[0;34m)\u001b[0m\u001b[0;34m.\u001b[0m\u001b[0m____\u001b[0m\u001b[0;34m(\u001b[0m\u001b[0m____\u001b[0m\u001b[0;34m,\u001b[0m \u001b[0m________\u001b[0m\u001b[0;34m)\u001b[0m\u001b[0;34m\u001b[0m\u001b[0m\n\u001b[1;32m      5\u001b[0m \u001b[0mwinners\u001b[0m\u001b[0;34m\u001b[0m\u001b[0m\n",
      "\u001b[0;32m/Users/yanayrosen/anaconda/lib/python3.6/site-packages/datascience/tables.py\u001b[0m in \u001b[0;36m__getattr__\u001b[0;34m(self, attr)\u001b[0m\n\u001b[1;32m    203\u001b[0m         \u001b[0;32melse\u001b[0m\u001b[0;34m:\u001b[0m\u001b[0;34m\u001b[0m\u001b[0m\n\u001b[1;32m    204\u001b[0m             \u001b[0mmsg\u001b[0m \u001b[0;34m=\u001b[0m \u001b[0;34m\"'{0}' object has no attribute '{1}'\"\u001b[0m\u001b[0;34m.\u001b[0m\u001b[0mformat\u001b[0m\u001b[0;34m(\u001b[0m\u001b[0mtype\u001b[0m\u001b[0;34m(\u001b[0m\u001b[0mself\u001b[0m\u001b[0;34m)\u001b[0m\u001b[0;34m.\u001b[0m\u001b[0m__name__\u001b[0m\u001b[0;34m,\u001b[0m \u001b[0mattr\u001b[0m\u001b[0;34m)\u001b[0m\u001b[0;34m\u001b[0m\u001b[0m\n\u001b[0;32m--> 205\u001b[0;31m             \u001b[0;32mraise\u001b[0m \u001b[0mAttributeError\u001b[0m\u001b[0;34m(\u001b[0m\u001b[0mmsg\u001b[0m\u001b[0;34m)\u001b[0m\u001b[0;34m\u001b[0m\u001b[0m\n\u001b[0m\u001b[1;32m    206\u001b[0m \u001b[0;34m\u001b[0m\u001b[0m\n\u001b[1;32m    207\u001b[0m     \u001b[0;31m####################\u001b[0m\u001b[0;34m\u001b[0m\u001b[0;34m\u001b[0m\u001b[0m\n",
      "\u001b[0;31mAttributeError\u001b[0m: 'Table' object has no attribute '____'"
     ]
    }
   ],
   "source": [
    "points = ___.____(____, ____).select(\"GAME_ID\", \"PTS_TYPE\", \"team\")\n",
    "scores = ____.___(make_array(____,____), ___)\n",
    "sorted_table = ___.____(____, descending=True).____(____)\n",
    "winners = ____.____(____(____, sorted_table.num_rows, ____)).____(____).____(____, ________)\n",
    "winners"
   ]
  },
  {
   "cell_type": "code",
   "execution_count": 13,
   "metadata": {},
   "outputs": [
    {
     "data": {
      "text/html": [
       "<table border=\"1\" class=\"dataframe\">\n",
       "    <thead>\n",
       "        <tr>\n",
       "            <th>GAME_ID</th> <th>team</th> <th>shot_value sum</th>\n",
       "        </tr>\n",
       "    </thead>\n",
       "    <tbody>\n",
       "        <tr>\n",
       "            <td>21400741</td> <td>GSW </td> <td>109           </td>\n",
       "        </tr>\n",
       "        <tr>\n",
       "            <td>21400451</td> <td>SAC </td> <td>104           </td>\n",
       "        </tr>\n",
       "        <tr>\n",
       "            <td>21400442</td> <td>PHX </td> <td>104           </td>\n",
       "        </tr>\n",
       "        <tr>\n",
       "            <td>21400382</td> <td>GSW </td> <td>104           </td>\n",
       "        </tr>\n",
       "        <tr>\n",
       "            <td>21400257</td> <td>DAL </td> <td>104           </td>\n",
       "        </tr>\n",
       "        <tr>\n",
       "            <td>21400248</td> <td>LAL </td> <td>104           </td>\n",
       "        </tr>\n",
       "        <tr>\n",
       "            <td>21400234</td> <td>LAL </td> <td>104           </td>\n",
       "        </tr>\n",
       "        <tr>\n",
       "            <td>21400636</td> <td>GSW </td> <td>103           </td>\n",
       "        </tr>\n",
       "        <tr>\n",
       "            <td>21400550</td> <td>LAC </td> <td>103           </td>\n",
       "        </tr>\n",
       "        <tr>\n",
       "            <td>21400302</td> <td>WAS </td> <td>103           </td>\n",
       "        </tr>\n",
       "    </tbody>\n",
       "</table>\n",
       "<p>... (1798 rows omitted)</p>"
      ],
      "text/plain": [
       "GAME_ID  | team | shot_value sum\n",
       "21400741 | GSW  | 109\n",
       "21400451 | SAC  | 104\n",
       "21400442 | PHX  | 104\n",
       "21400382 | GSW  | 104\n",
       "21400257 | DAL  | 104\n",
       "21400248 | LAL  | 104\n",
       "21400234 | LAL  | 104\n",
       "21400636 | GSW  | 103\n",
       "21400550 | LAC  | 103\n",
       "21400302 | WAS  | 103\n",
       "... (1798 rows omitted)"
      ]
     },
     "execution_count": 13,
     "metadata": {},
     "output_type": "execute_result"
    }
   ],
   "source": [
    "points = shots.where(\"SHOT_RESULT\", \"made\").select(0, 2, \"team\")\n",
    "scores = points.group(make_array(\"GAME_ID\",\"team\"), sum)\n",
    "scores.sort(\"shot_value sum\", descending=True)"
   ]
  },
  {
   "cell_type": "code",
   "execution_count": 14,
   "metadata": {},
   "outputs": [
    {
     "data": {
      "text/html": [
       "<table border=\"1\" class=\"dataframe\">\n",
       "    <thead>\n",
       "        <tr>\n",
       "            <th>GAME_ID</th> <th>team</th> <th>shot_value sum</th>\n",
       "        </tr>\n",
       "    </thead>\n",
       "    <tbody>\n",
       "        <tr>\n",
       "            <td>21400001</td> <td>NOP </td> <td>75            </td>\n",
       "        </tr>\n",
       "        <tr>\n",
       "            <td>21400001</td> <td>ORL </td> <td>62            </td>\n",
       "        </tr>\n",
       "        <tr>\n",
       "            <td>21400002</td> <td>DAL </td> <td>67            </td>\n",
       "        </tr>\n",
       "        <tr>\n",
       "            <td>21400002</td> <td>SAS </td> <td>88            </td>\n",
       "        </tr>\n",
       "        <tr>\n",
       "            <td>21400003</td> <td>HOU </td> <td>56            </td>\n",
       "        </tr>\n",
       "        <tr>\n",
       "            <td>21400003</td> <td>LAL </td> <td>54            </td>\n",
       "        </tr>\n",
       "        <tr>\n",
       "            <td>21400004</td> <td>CHA </td> <td>88            </td>\n",
       "        </tr>\n",
       "        <tr>\n",
       "            <td>21400004</td> <td>MIL </td> <td>63            </td>\n",
       "        </tr>\n",
       "        <tr>\n",
       "            <td>21400005</td> <td>IND </td> <td>80            </td>\n",
       "        </tr>\n",
       "        <tr>\n",
       "            <td>21400005</td> <td>PHI </td> <td>19            </td>\n",
       "        </tr>\n",
       "    </tbody>\n",
       "</table>\n",
       "<p>... (1798 rows omitted)</p>"
      ],
      "text/plain": [
       "GAME_ID  | team | shot_value sum\n",
       "21400001 | NOP  | 75\n",
       "21400001 | ORL  | 62\n",
       "21400002 | DAL  | 67\n",
       "21400002 | SAS  | 88\n",
       "21400003 | HOU  | 56\n",
       "21400003 | LAL  | 54\n",
       "21400004 | CHA  | 88\n",
       "21400004 | MIL  | 63\n",
       "21400005 | IND  | 80\n",
       "21400005 | PHI  | 19\n",
       "... (1798 rows omitted)"
      ]
     },
     "execution_count": 14,
     "metadata": {},
     "output_type": "execute_result"
    }
   ],
   "source": [
    "scores.sort(\"GAME_ID\")"
   ]
  },
  {
   "cell_type": "code",
   "execution_count": 15,
   "metadata": {},
   "outputs": [
    {
     "data": {
      "text/html": [
       "<table border=\"1\" class=\"dataframe\">\n",
       "    <thead>\n",
       "        <tr>\n",
       "            <th>GAME_ID</th> <th>team</th> <th>shot_value sum</th>\n",
       "        </tr>\n",
       "    </thead>\n",
       "    <tbody>\n",
       "        <tr>\n",
       "            <td>21400001</td> <td>NOP </td> <td>75            </td>\n",
       "        </tr>\n",
       "        <tr>\n",
       "            <td>21400001</td> <td>ORL </td> <td>62            </td>\n",
       "        </tr>\n",
       "        <tr>\n",
       "            <td>21400002</td> <td>SAS </td> <td>88            </td>\n",
       "        </tr>\n",
       "        <tr>\n",
       "            <td>21400002</td> <td>DAL </td> <td>67            </td>\n",
       "        </tr>\n",
       "        <tr>\n",
       "            <td>21400003</td> <td>HOU </td> <td>56            </td>\n",
       "        </tr>\n",
       "        <tr>\n",
       "            <td>21400003</td> <td>LAL </td> <td>54            </td>\n",
       "        </tr>\n",
       "        <tr>\n",
       "            <td>21400004</td> <td>CHA </td> <td>88            </td>\n",
       "        </tr>\n",
       "        <tr>\n",
       "            <td>21400004</td> <td>MIL </td> <td>63            </td>\n",
       "        </tr>\n",
       "        <tr>\n",
       "            <td>21400005</td> <td>IND </td> <td>80            </td>\n",
       "        </tr>\n",
       "        <tr>\n",
       "            <td>21400005</td> <td>PHI </td> <td>19            </td>\n",
       "        </tr>\n",
       "    </tbody>\n",
       "</table>\n",
       "<p>... (1798 rows omitted)</p>"
      ],
      "text/plain": [
       "GAME_ID  | team | shot_value sum\n",
       "21400001 | NOP  | 75\n",
       "21400001 | ORL  | 62\n",
       "21400002 | SAS  | 88\n",
       "21400002 | DAL  | 67\n",
       "21400003 | HOU  | 56\n",
       "21400003 | LAL  | 54\n",
       "21400004 | CHA  | 88\n",
       "21400004 | MIL  | 63\n",
       "21400005 | IND  | 80\n",
       "21400005 | PHI  | 19\n",
       "... (1798 rows omitted)"
      ]
     },
     "execution_count": 15,
     "metadata": {},
     "output_type": "execute_result"
    }
   ],
   "source": [
    "scores.sort(\"shot_value sum\", descending=True).sort('GAME_ID')"
   ]
  },
  {
   "cell_type": "code",
   "execution_count": 17,
   "metadata": {},
   "outputs": [
    {
     "data": {
      "text/html": [
       "<table border=\"1\" class=\"dataframe\">\n",
       "    <thead>\n",
       "        <tr>\n",
       "            <th>GAME_ID</th> <th>team</th> <th>shot_value sum</th>\n",
       "        </tr>\n",
       "    </thead>\n",
       "    <tbody>\n",
       "        <tr>\n",
       "            <td>21400741</td> <td>GSW </td> <td>109           </td>\n",
       "        </tr>\n",
       "        <tr>\n",
       "            <td>21400451</td> <td>SAC </td> <td>104           </td>\n",
       "        </tr>\n",
       "        <tr>\n",
       "            <td>21400442</td> <td>PHX </td> <td>104           </td>\n",
       "        </tr>\n",
       "        <tr>\n",
       "            <td>21400382</td> <td>GSW </td> <td>104           </td>\n",
       "        </tr>\n",
       "        <tr>\n",
       "            <td>21400257</td> <td>DAL </td> <td>104           </td>\n",
       "        </tr>\n",
       "        <tr>\n",
       "            <td>21400248</td> <td>LAL </td> <td>104           </td>\n",
       "        </tr>\n",
       "        <tr>\n",
       "            <td>21400234</td> <td>LAL </td> <td>104           </td>\n",
       "        </tr>\n",
       "        <tr>\n",
       "            <td>21400636</td> <td>GSW </td> <td>103           </td>\n",
       "        </tr>\n",
       "        <tr>\n",
       "            <td>21400550</td> <td>LAC </td> <td>103           </td>\n",
       "        </tr>\n",
       "        <tr>\n",
       "            <td>21400302</td> <td>WAS </td> <td>103           </td>\n",
       "        </tr>\n",
       "    </tbody>\n",
       "</table>\n",
       "<p>... (1798 rows omitted)</p>"
      ],
      "text/plain": [
       "GAME_ID  | team | shot_value sum\n",
       "21400741 | GSW  | 109\n",
       "21400451 | SAC  | 104\n",
       "21400442 | PHX  | 104\n",
       "21400382 | GSW  | 104\n",
       "21400257 | DAL  | 104\n",
       "21400248 | LAL  | 104\n",
       "21400234 | LAL  | 104\n",
       "21400636 | GSW  | 103\n",
       "21400550 | LAC  | 103\n",
       "21400302 | WAS  | 103\n",
       "... (1798 rows omitted)"
      ]
     },
     "execution_count": 17,
     "metadata": {},
     "output_type": "execute_result"
    }
   ],
   "source": [
    "scores.sort('GAME_ID').sort(\"shot_value sum\", descending=True)"
   ]
  },
  {
   "cell_type": "code",
   "execution_count": 9,
   "metadata": {},
   "outputs": [
    {
     "data": {
      "text/html": [
       "<table border=\"1\" class=\"dataframe\">\n",
       "    <thead>\n",
       "        <tr>\n",
       "            <th>team</th> <th>count</th>\n",
       "        </tr>\n",
       "    </thead>\n",
       "    <tbody>\n",
       "        <tr>\n",
       "            <td>LAC </td> <td>48   </td>\n",
       "        </tr>\n",
       "        <tr>\n",
       "            <td>GSW </td> <td>47   </td>\n",
       "        </tr>\n",
       "        <tr>\n",
       "            <td>ATL </td> <td>47   </td>\n",
       "        </tr>\n",
       "        <tr>\n",
       "            <td>WAS </td> <td>46   </td>\n",
       "        </tr>\n",
       "        <tr>\n",
       "            <td>MEM </td> <td>42   </td>\n",
       "        </tr>\n",
       "        <tr>\n",
       "            <td>PHX </td> <td>39   </td>\n",
       "        </tr>\n",
       "        <tr>\n",
       "            <td>CHA </td> <td>37   </td>\n",
       "        </tr>\n",
       "        <tr>\n",
       "            <td>TOR </td> <td>35   </td>\n",
       "        </tr>\n",
       "        <tr>\n",
       "            <td>SAC </td> <td>35   </td>\n",
       "        </tr>\n",
       "        <tr>\n",
       "            <td>ORL </td> <td>34   </td>\n",
       "        </tr>\n",
       "    </tbody>\n",
       "</table>\n",
       "<p>... (20 rows omitted)</p>"
      ],
      "text/plain": [
       "team | count\n",
       "LAC  | 48\n",
       "GSW  | 47\n",
       "ATL  | 47\n",
       "WAS  | 46\n",
       "MEM  | 42\n",
       "PHX  | 39\n",
       "CHA  | 37\n",
       "TOR  | 35\n",
       "SAC  | 35\n",
       "ORL  | 34\n",
       "... (20 rows omitted)"
      ]
     },
     "execution_count": 9,
     "metadata": {},
     "output_type": "execute_result"
    }
   ],
   "source": [
    "points = shots.where(\"SHOT_RESULT\", \"made\").select(0, 2, \"team\")\n",
    "scores = points.group(make_array(\"GAME_ID\",\"team\"), sum)\n",
    "sorted_table = scores.sort(\"PTS_TYPE sum\", descending=True).sort(\"GAME_ID\")\n",
    "winners = sorted_table.take(np.arange(0, sorted_table.num_rows, 2)).group(\"team\").sort(1, descending=True)\n",
    "winners"
   ]
  },
  {
   "cell_type": "markdown",
   "metadata": {},
   "source": [
    "## Question 2\n",
    "Which player averaged the most points in this season? (pts/game).\n",
    "\n",
    "You can tell if a player played a game based on if they took a shot in it or not.\n",
    "\n",
    "The justification for this is that it is very unlikely that a player who has a game in which they never took a shot would be in contention for the most points per game."
   ]
  },
  {
   "cell_type": "code",
   "execution_count": 10,
   "metadata": {},
   "outputs": [
    {
     "ename": "SyntaxError",
     "evalue": "invalid syntax (<ipython-input-10-39a7870c275a>, line 12)",
     "output_type": "error",
     "traceback": [
      "\u001b[0;36m  File \u001b[0;32m\"<ipython-input-10-39a7870c275a>\"\u001b[0;36m, line \u001b[0;32m12\u001b[0m\n\u001b[0;31m    avgd = combined.with_column(\"avg_pts\", _______._____(_____) __ _____.______(_____))\u001b[0m\n\u001b[0m                                                                 ^\u001b[0m\n\u001b[0;31mSyntaxError\u001b[0m\u001b[0;31m:\u001b[0m invalid syntax\n"
     ]
    }
   ],
   "source": [
    "player_points = _____._____(_____, _____).____(_____, _____)\n",
    "\n",
    "def count_games(player_name):\n",
    "    \"\"\"Count the number of games a player played based on if they took a shot.\"\"\"\n",
    "    players_shots = shots._____(______, _____)\n",
    "    return ______.________.num_rows\n",
    "\n",
    "players = shots._____(_____)\n",
    "games_played = players.with_column(\"Games Played\", _____.______(______, _______))\n",
    "\n",
    "combined = player_points._______(_____, _____)\n",
    "avgd = combined.with_column(\"avg_pts\", _______._____(_____) __ _____.______(_____))\n",
    "scoring_leader = avgd._____(_____,_____)._____(_____).____(__)\n",
    "scoring_leader"
   ]
  },
  {
   "cell_type": "code",
   "execution_count": 11,
   "metadata": {},
   "outputs": [
    {
     "data": {
      "text/plain": [
       "'lebron james'"
      ]
     },
     "execution_count": 11,
     "metadata": {},
     "output_type": "execute_result"
    }
   ],
   "source": [
    "player_points = shots.where(\"SHOT_RESULT\", \"made\").group(\"player_name\", sum)\n",
    "\n",
    "def count_games(player_name):\n",
    "    \"\"\"Count the number of games a player played based on if they took a shot.\"\"\"\n",
    "    players_shots = shots.where(\"player_name\", player_name)\n",
    "    return players_shots.group(\"GAME_ID\").num_rows\n",
    "\n",
    "players = shots.group(\"player_name\")\n",
    "games_played = players.with_column(\"Games Played\", players.apply(count_games, \"player_name\"))\n",
    "\n",
    "combined = player_points.join(\"player_name\", games_played)\n",
    "avgd = combined.with_column(\"avg_pts\", combined.column(\"PTS_TYPE sum\") / combined.column(\"Games Played\"))\n",
    "scoring_leader = avgd.sort(\"avg_pts\", descending=True).column(\"player_name\").item(0)\n",
    "scoring_leader"
   ]
  },
  {
   "cell_type": "code",
   "execution_count": null,
   "metadata": {
    "collapsed": true
   },
   "outputs": [],
   "source": []
  }
 ],
 "metadata": {
  "kernelspec": {
   "display_name": "Python 3",
   "language": "python",
   "name": "python3"
  },
  "language_info": {
   "codemirror_mode": {
    "name": "ipython",
    "version": 3
   },
   "file_extension": ".py",
   "mimetype": "text/x-python",
   "name": "python",
   "nbconvert_exporter": "python",
   "pygments_lexer": "ipython3",
   "version": "3.6.5"
  }
 },
 "nbformat": 4,
 "nbformat_minor": 2
}
